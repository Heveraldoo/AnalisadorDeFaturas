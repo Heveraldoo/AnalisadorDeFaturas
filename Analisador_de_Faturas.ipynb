{
  "nbformat": 4,
  "nbformat_minor": 0,
  "metadata": {
    "colab": {
      "provenance": []
    },
    "kernelspec": {
      "name": "python3",
      "display_name": "Python 3"
    },
    "language_info": {
      "name": "python"
    }
  },
  "cells": [
    {
      "cell_type": "code",
      "source": [
        "%pip -q install google-genai\n",
        "# Instalar Framework de agentes do Google ################################################\n",
        "!pip install -q google-adk\n",
        "!pip install matplotlib"
      ],
      "metadata": {
        "id": "UCCbECexLk_h",
        "colab": {
          "base_uri": "https://localhost:8080/"
        },
        "outputId": "6abc5a90-2090-46d1-b938-34b29764418a"
      },
      "execution_count": null,
      "outputs": [
        {
          "output_type": "stream",
          "name": "stdout",
          "text": [
            "\u001b[?25l   \u001b[90m━━━━━━━━━━━━━━━━━━━━━━━━━━━━━━━━━━━━━━━━\u001b[0m \u001b[32m0.0/1.2 MB\u001b[0m \u001b[31m?\u001b[0m eta \u001b[36m-:--:--\u001b[0m\r\u001b[2K   \u001b[91m━━━━━━━━━━━━━━\u001b[0m\u001b[91m╸\u001b[0m\u001b[90m━━━━━━━━━━━━━━━━━━━━━━━━━\u001b[0m \u001b[32m0.4/1.2 MB\u001b[0m \u001b[31m12.7 MB/s\u001b[0m eta \u001b[36m0:00:01\u001b[0m\r\u001b[2K   \u001b[90m━━━━━━━━━━━━━━━━━━━━━━━━━━━━━━━━━━━━━━━━\u001b[0m \u001b[32m1.2/1.2 MB\u001b[0m \u001b[31m18.1 MB/s\u001b[0m eta \u001b[36m0:00:00\u001b[0m\n",
            "\u001b[?25h\u001b[?25l   \u001b[90m━━━━━━━━━━━━━━━━━━━━━━━━━━━━━━━━━━━━━━━━\u001b[0m \u001b[32m0.0/232.1 kB\u001b[0m \u001b[31m?\u001b[0m eta \u001b[36m-:--:--\u001b[0m\r\u001b[2K   \u001b[90m━━━━━━━━━━━━━━━━━━━━━━━━━━━━━━━━━━━━━━━━\u001b[0m \u001b[32m232.1/232.1 kB\u001b[0m \u001b[31m17.6 MB/s\u001b[0m eta \u001b[36m0:00:00\u001b[0m\n",
            "\u001b[?25h\u001b[?25l   \u001b[90m━━━━━━━━━━━━━━━━━━━━━━━━━━━━━━━━━━━━━━━━\u001b[0m \u001b[32m0.0/95.2 kB\u001b[0m \u001b[31m?\u001b[0m eta \u001b[36m-:--:--\u001b[0m\r\u001b[2K   \u001b[90m━━━━━━━━━━━━━━━━━━━━━━━━━━━━━━━━━━━━━━━━\u001b[0m \u001b[32m95.2/95.2 kB\u001b[0m \u001b[31m6.9 MB/s\u001b[0m eta \u001b[36m0:00:00\u001b[0m\n",
            "\u001b[2K   \u001b[90m━━━━━━━━━━━━━━━━━━━━━━━━━━━━━━━━━━━━━━━━\u001b[0m \u001b[32m217.1/217.1 kB\u001b[0m \u001b[31m15.1 MB/s\u001b[0m eta \u001b[36m0:00:00\u001b[0m\n",
            "\u001b[2K   \u001b[90m━━━━━━━━━━━━━━━━━━━━━━━━━━━━━━━━━━━━━━━━\u001b[0m \u001b[32m334.1/334.1 kB\u001b[0m \u001b[31m24.3 MB/s\u001b[0m eta \u001b[36m0:00:00\u001b[0m\n",
            "\u001b[2K   \u001b[90m━━━━━━━━━━━━━━━━━━━━━━━━━━━━━━━━━━━━━━━━\u001b[0m \u001b[32m125.1/125.1 kB\u001b[0m \u001b[31m10.4 MB/s\u001b[0m eta \u001b[36m0:00:00\u001b[0m\n",
            "\u001b[2K   \u001b[90m━━━━━━━━━━━━━━━━━━━━━━━━━━━━━━━━━━━━━━━━\u001b[0m \u001b[32m65.8/65.8 kB\u001b[0m \u001b[31m5.5 MB/s\u001b[0m eta \u001b[36m0:00:00\u001b[0m\n",
            "\u001b[2K   \u001b[90m━━━━━━━━━━━━━━━━━━━━━━━━━━━━━━━━━━━━━━━━\u001b[0m \u001b[32m119.0/119.0 kB\u001b[0m \u001b[31m10.1 MB/s\u001b[0m eta \u001b[36m0:00:00\u001b[0m\n",
            "\u001b[2K   \u001b[90m━━━━━━━━━━━━━━━━━━━━━━━━━━━━━━━━━━━━━━━━\u001b[0m \u001b[32m194.9/194.9 kB\u001b[0m \u001b[31m16.7 MB/s\u001b[0m eta \u001b[36m0:00:00\u001b[0m\n",
            "\u001b[2K   \u001b[90m━━━━━━━━━━━━━━━━━━━━━━━━━━━━━━━━━━━━━━━━\u001b[0m \u001b[32m62.5/62.5 kB\u001b[0m \u001b[31m4.6 MB/s\u001b[0m eta \u001b[36m0:00:00\u001b[0m\n",
            "\u001b[2K   \u001b[90m━━━━━━━━━━━━━━━━━━━━━━━━━━━━━━━━━━━━━━━━\u001b[0m \u001b[32m103.3/103.3 kB\u001b[0m \u001b[31m8.1 MB/s\u001b[0m eta \u001b[36m0:00:00\u001b[0m\n",
            "\u001b[2K   \u001b[90m━━━━━━━━━━━━━━━━━━━━━━━━━━━━━━━━━━━━━━━━\u001b[0m \u001b[32m44.4/44.4 kB\u001b[0m \u001b[31m3.2 MB/s\u001b[0m eta \u001b[36m0:00:00\u001b[0m\n",
            "\u001b[2K   \u001b[90m━━━━━━━━━━━━━━━━━━━━━━━━━━━━━━━━━━━━━━━━\u001b[0m \u001b[32m72.0/72.0 kB\u001b[0m \u001b[31m5.2 MB/s\u001b[0m eta \u001b[36m0:00:00\u001b[0m\n",
            "\u001b[?25h"
          ]
        }
      ]
    },
    {
      "cell_type": "code",
      "source": [
        "# Configura a API Key do Google Gemini\n",
        "\n",
        "import os\n",
        "import io\n",
        "import glob\n",
        "from IPython.display import display, Markdown\n",
        "import matplotlib.pyplot as plt\n",
        "\n",
        "from google.colab import userdata\n",
        "from google.colab import files\n",
        "\n",
        "os.environ[\"GOOGLE_API_KEY\"] = userdata.get('GOOGLE_API_KEY')"
      ],
      "metadata": {
        "id": "NfCqHo1tLk8P"
      },
      "execution_count": null,
      "outputs": []
    },
    {
      "cell_type": "code",
      "source": [
        "# Configura o cliente da SDK do Gemini\n",
        "\n",
        "from google import genai\n",
        "from google.genai import types\n",
        "\n",
        "client = genai.Client()\n",
        "\n",
        "MODEL_ID = \"gemini-2.5-flash-preview-04-17\""
      ],
      "metadata": {
        "id": "bV4w0H5TLk5g"
      },
      "execution_count": null,
      "outputs": []
    },
    {
      "cell_type": "code",
      "source": [
        "# Imports para os agents\n",
        "\n",
        "from google.adk.agents import Agent\n",
        "from google.adk.runners import Runner\n",
        "from google.adk.sessions import InMemorySessionService\n",
        "from google.adk.tools import google_search\n",
        "from datetime import date\n",
        "import textwrap # Para formatar melhor a saída de texto\n",
        "import requests # Para fazer requisições HTTP\n",
        "import warnings\n",
        "\n",
        "warnings.filterwarnings(\"ignore\")"
      ],
      "metadata": {
        "colab": {
          "base_uri": "https://localhost:8080/",
          "height": 383
        },
        "id": "G_d7s9H0ixgM",
        "outputId": "da08b8d5-bd82-4cc4-a82c-a354ce8c0fb7"
      },
      "execution_count": null,
      "outputs": [
        {
          "output_type": "error",
          "ename": "ImportError",
          "evalue": "cannot import name 'google_docs' from 'google.adk.tools' (/usr/local/lib/python3.11/dist-packages/google/adk/tools/__init__.py)",
          "traceback": [
            "\u001b[0;31m---------------------------------------------------------------------------\u001b[0m",
            "\u001b[0;31mImportError\u001b[0m                               Traceback (most recent call last)",
            "\u001b[0;32m<ipython-input-17-3030ce13f337>\u001b[0m in \u001b[0;36m<cell line: 0>\u001b[0;34m()\u001b[0m\n\u001b[1;32m      5\u001b[0m \u001b[0;32mfrom\u001b[0m \u001b[0mgoogle\u001b[0m\u001b[0;34m.\u001b[0m\u001b[0madk\u001b[0m\u001b[0;34m.\u001b[0m\u001b[0msessions\u001b[0m \u001b[0;32mimport\u001b[0m \u001b[0mInMemorySessionService\u001b[0m\u001b[0;34m\u001b[0m\u001b[0;34m\u001b[0m\u001b[0m\n\u001b[1;32m      6\u001b[0m \u001b[0;32mfrom\u001b[0m \u001b[0mgoogle\u001b[0m\u001b[0;34m.\u001b[0m\u001b[0madk\u001b[0m\u001b[0;34m.\u001b[0m\u001b[0mtools\u001b[0m \u001b[0;32mimport\u001b[0m \u001b[0mgoogle_search\u001b[0m\u001b[0;34m\u001b[0m\u001b[0;34m\u001b[0m\u001b[0m\n\u001b[0;32m----> 7\u001b[0;31m \u001b[0;32mfrom\u001b[0m \u001b[0mgoogle\u001b[0m\u001b[0;34m.\u001b[0m\u001b[0madk\u001b[0m\u001b[0;34m.\u001b[0m\u001b[0mtools\u001b[0m \u001b[0;32mimport\u001b[0m \u001b[0mgoogle_docs\u001b[0m\u001b[0;34m\u001b[0m\u001b[0;34m\u001b[0m\u001b[0m\n\u001b[0m\u001b[1;32m      8\u001b[0m \u001b[0;32mfrom\u001b[0m \u001b[0mdatetime\u001b[0m \u001b[0;32mimport\u001b[0m \u001b[0mdate\u001b[0m\u001b[0;34m\u001b[0m\u001b[0;34m\u001b[0m\u001b[0m\n\u001b[1;32m      9\u001b[0m \u001b[0;32mimport\u001b[0m \u001b[0mtextwrap\u001b[0m \u001b[0;31m# Para formatar melhor a saída de texto\u001b[0m\u001b[0;34m\u001b[0m\u001b[0;34m\u001b[0m\u001b[0m\n",
            "\u001b[0;31mImportError\u001b[0m: cannot import name 'google_docs' from 'google.adk.tools' (/usr/local/lib/python3.11/dist-packages/google/adk/tools/__init__.py)",
            "",
            "\u001b[0;31m---------------------------------------------------------------------------\u001b[0;32m\nNOTE: If your import is failing due to a missing package, you can\nmanually install dependencies using either !pip or !apt.\n\nTo view examples of installing some common dependencies, click the\n\"Open Examples\" button below.\n\u001b[0;31m---------------------------------------------------------------------------\u001b[0m\n"
          ],
          "errorDetails": {
            "actions": [
              {
                "action": "open_url",
                "actionText": "Open Examples",
                "url": "/notebooks/snippets/importing_libraries.ipynb"
              }
            ]
          }
        }
      ]
    },
    {
      "cell_type": "code",
      "source": [
        "#for model in client.models.list():\n",
        "#    print(model.name)"
      ],
      "metadata": {
        "id": "gLj_qbHM79F7"
      },
      "execution_count": null,
      "outputs": []
    },
    {
      "cell_type": "code",
      "source": [
        "# Função auxiliar que envia uma mensagem para um agente via Runner e retorna a resposta final\n",
        "def call_agent(agent: Agent, message_text: str) -> str:\n",
        "    # Cria um serviço de sessão em memória\n",
        "    session_service = InMemorySessionService()\n",
        "    # Cria uma nova sessão (você pode personalizar os IDs conforme necessário)\n",
        "    session = session_service.create_session(app_name=agent.name, user_id=\"user1\", session_id=\"session1\")\n",
        "    # Cria um Runner para o agente\n",
        "    runner = Runner(agent=agent, app_name=agent.name, session_service=session_service)\n",
        "    # Cria o conteúdo da mensagem de entrada\n",
        "    content = types.Content(role=\"user\", parts=[types.Part(text=message_text)])\n",
        "\n",
        "    final_response = \"\"\n",
        "    # Itera assincronamente pelos eventos retornados durante a execução do agente\n",
        "    for event in runner.run(user_id=\"user1\", session_id=\"session1\", new_message=content):\n",
        "        if event.is_final_response():\n",
        "          for part in event.content.parts:\n",
        "            if part.text is not None:\n",
        "              final_response += part.text\n",
        "              final_response += \"\\n\"\n",
        "    return final_response"
      ],
      "metadata": {
        "id": "_xP4lWhsS5ko"
      },
      "execution_count": null,
      "outputs": []
    },
    {
      "cell_type": "code",
      "source": [
        "# prompt: solicitar o upload de arquivos pdf das faturas.\n",
        "\n",
        "# Solicitar upload de arquivos PDF\n",
        "uploaded = files.upload()\n",
        "\n",
        "# Processar os arquivos PDF uploaded\n",
        "for filename, content in uploaded.items():\n",
        "    print(f'Arquivo \"{filename}\" uploaded com sucesso.')\n",
        "    # Aqui você pode adicionar a lógica para analisar o conteúdo do PDF\n",
        "    # Por exemplo, se você tiver uma função `analyze_pdf_with_gemini` que recebe o conteúdo do PDF e retorna a análise\n",
        "    # analysis_result = analyze_pdf_with_gemini(content)\n",
        "    # display(Markdown(f'Análise do arquivo \"{filename}\":\\n\\n{analysis_result}'))\n",
        "\n",
        "    # Exemplo simples: apenas imprimir o tamanho do arquivo\n",
        "    display(Markdown(f'Tamanho do arquivo \"{filename}\": {len(content)} bytes'))\n",
        "\n",
        "    # Se você quiser ler o conteúdo como texto (requer bibliotecas como PyMuPDF ou pdfminer.six)\n",
        "    # !pip install pymupdf\n",
        "    # import fitz # PyMuPDF\n",
        "    # try:\n",
        "    #     pdf_document = fitz.open(stream=io.BytesIO(content), filetype=\"pdf\")\n",
        "    #     text = \"\"\n",
        "    #     for page_num in range(pdf_document.page_count):\n",
        "    #         page = pdf_document.load_page(page_num)\n",
        "    #         text += page.get_text()\n",
        "    #     display(Markdown(f'Conteúdo de texto do arquivo \"{filename}\":\\n\\n{text[:500]}...')) # Exibindo apenas os primeiros 500 caracteres\n",
        "    # except Exception as e:\n",
        "    #     print(f\"Erro ao ler o conteúdo do PDF {filename}: {e}\")\n",
        "\n",
        "    # Se você quiser enviar o conteúdo binário para o Gemini para análise (dependendo do modelo e da API)\n",
        "    # Note: A API do Gemini pode ter limitações no tamanho e formato dos arquivos.\n",
        "    # content_part = genai.types.content_types.to_content({\"mime_type\": \"application/pdf\", \"data\": content})\n",
        "    # model = client.models.get(MODEL_ID) # Certifique-se de que o MODEL_ID suporta processamento de PDF\n",
        "    # try:\n",
        "    #     # Este é um exemplo genérico, a forma exata de passar o arquivo pode variar\n",
        "    #     # Verifique a documentação mais recente da API do Gemini para processamento de arquivos\n",
        "    #     response = model.generate_content([content_part, \"Analise este arquivo PDF e resuma as informações principais.\"])\n",
        "    #     display(Markdown(f'Resposta do Gemini para \"{filename}\":\\n\\n{response.text}'))\n",
        "    # except Exception as e:\n",
        "    #     print(f\"Erro ao enviar o arquivo {filename} para o Gemini: {e}\")\n",
        "\n",
        "# Lembre-se de que a capacidade de analisar diretamente arquivos PDF binários depende do modelo Gemini específico e da API.\n",
        "# Para análises mais complexas de PDF, você pode precisar de bibliotecas Python para extrair texto e imagens antes de enviar para o Gemini."
      ],
      "metadata": {
        "colab": {
          "base_uri": "https://localhost:8080/",
          "height": 201
        },
        "id": "D4se4Yvh96MW",
        "outputId": "76cf90e6-5734-4614-e17f-8e707ac5ebfe"
      },
      "execution_count": null,
      "outputs": [
        {
          "output_type": "display_data",
          "data": {
            "text/plain": [
              "<IPython.core.display.HTML object>"
            ],
            "text/html": [
              "\n",
              "     <input type=\"file\" id=\"files-855c0cf2-ca7b-44e1-8bfd-d3acd541e067\" name=\"files[]\" multiple disabled\n",
              "        style=\"border:none\" />\n",
              "     <output id=\"result-855c0cf2-ca7b-44e1-8bfd-d3acd541e067\">\n",
              "      Upload widget is only available when the cell has been executed in the\n",
              "      current browser session. Please rerun this cell to enable.\n",
              "      </output>\n",
              "      <script>// Copyright 2017 Google LLC\n",
              "//\n",
              "// Licensed under the Apache License, Version 2.0 (the \"License\");\n",
              "// you may not use this file except in compliance with the License.\n",
              "// You may obtain a copy of the License at\n",
              "//\n",
              "//      http://www.apache.org/licenses/LICENSE-2.0\n",
              "//\n",
              "// Unless required by applicable law or agreed to in writing, software\n",
              "// distributed under the License is distributed on an \"AS IS\" BASIS,\n",
              "// WITHOUT WARRANTIES OR CONDITIONS OF ANY KIND, either express or implied.\n",
              "// See the License for the specific language governing permissions and\n",
              "// limitations under the License.\n",
              "\n",
              "/**\n",
              " * @fileoverview Helpers for google.colab Python module.\n",
              " */\n",
              "(function(scope) {\n",
              "function span(text, styleAttributes = {}) {\n",
              "  const element = document.createElement('span');\n",
              "  element.textContent = text;\n",
              "  for (const key of Object.keys(styleAttributes)) {\n",
              "    element.style[key] = styleAttributes[key];\n",
              "  }\n",
              "  return element;\n",
              "}\n",
              "\n",
              "// Max number of bytes which will be uploaded at a time.\n",
              "const MAX_PAYLOAD_SIZE = 100 * 1024;\n",
              "\n",
              "function _uploadFiles(inputId, outputId) {\n",
              "  const steps = uploadFilesStep(inputId, outputId);\n",
              "  const outputElement = document.getElementById(outputId);\n",
              "  // Cache steps on the outputElement to make it available for the next call\n",
              "  // to uploadFilesContinue from Python.\n",
              "  outputElement.steps = steps;\n",
              "\n",
              "  return _uploadFilesContinue(outputId);\n",
              "}\n",
              "\n",
              "// This is roughly an async generator (not supported in the browser yet),\n",
              "// where there are multiple asynchronous steps and the Python side is going\n",
              "// to poll for completion of each step.\n",
              "// This uses a Promise to block the python side on completion of each step,\n",
              "// then passes the result of the previous step as the input to the next step.\n",
              "function _uploadFilesContinue(outputId) {\n",
              "  const outputElement = document.getElementById(outputId);\n",
              "  const steps = outputElement.steps;\n",
              "\n",
              "  const next = steps.next(outputElement.lastPromiseValue);\n",
              "  return Promise.resolve(next.value.promise).then((value) => {\n",
              "    // Cache the last promise value to make it available to the next\n",
              "    // step of the generator.\n",
              "    outputElement.lastPromiseValue = value;\n",
              "    return next.value.response;\n",
              "  });\n",
              "}\n",
              "\n",
              "/**\n",
              " * Generator function which is called between each async step of the upload\n",
              " * process.\n",
              " * @param {string} inputId Element ID of the input file picker element.\n",
              " * @param {string} outputId Element ID of the output display.\n",
              " * @return {!Iterable<!Object>} Iterable of next steps.\n",
              " */\n",
              "function* uploadFilesStep(inputId, outputId) {\n",
              "  const inputElement = document.getElementById(inputId);\n",
              "  inputElement.disabled = false;\n",
              "\n",
              "  const outputElement = document.getElementById(outputId);\n",
              "  outputElement.innerHTML = '';\n",
              "\n",
              "  const pickedPromise = new Promise((resolve) => {\n",
              "    inputElement.addEventListener('change', (e) => {\n",
              "      resolve(e.target.files);\n",
              "    });\n",
              "  });\n",
              "\n",
              "  const cancel = document.createElement('button');\n",
              "  inputElement.parentElement.appendChild(cancel);\n",
              "  cancel.textContent = 'Cancel upload';\n",
              "  const cancelPromise = new Promise((resolve) => {\n",
              "    cancel.onclick = () => {\n",
              "      resolve(null);\n",
              "    };\n",
              "  });\n",
              "\n",
              "  // Wait for the user to pick the files.\n",
              "  const files = yield {\n",
              "    promise: Promise.race([pickedPromise, cancelPromise]),\n",
              "    response: {\n",
              "      action: 'starting',\n",
              "    }\n",
              "  };\n",
              "\n",
              "  cancel.remove();\n",
              "\n",
              "  // Disable the input element since further picks are not allowed.\n",
              "  inputElement.disabled = true;\n",
              "\n",
              "  if (!files) {\n",
              "    return {\n",
              "      response: {\n",
              "        action: 'complete',\n",
              "      }\n",
              "    };\n",
              "  }\n",
              "\n",
              "  for (const file of files) {\n",
              "    const li = document.createElement('li');\n",
              "    li.append(span(file.name, {fontWeight: 'bold'}));\n",
              "    li.append(span(\n",
              "        `(${file.type || 'n/a'}) - ${file.size} bytes, ` +\n",
              "        `last modified: ${\n",
              "            file.lastModifiedDate ? file.lastModifiedDate.toLocaleDateString() :\n",
              "                                    'n/a'} - `));\n",
              "    const percent = span('0% done');\n",
              "    li.appendChild(percent);\n",
              "\n",
              "    outputElement.appendChild(li);\n",
              "\n",
              "    const fileDataPromise = new Promise((resolve) => {\n",
              "      const reader = new FileReader();\n",
              "      reader.onload = (e) => {\n",
              "        resolve(e.target.result);\n",
              "      };\n",
              "      reader.readAsArrayBuffer(file);\n",
              "    });\n",
              "    // Wait for the data to be ready.\n",
              "    let fileData = yield {\n",
              "      promise: fileDataPromise,\n",
              "      response: {\n",
              "        action: 'continue',\n",
              "      }\n",
              "    };\n",
              "\n",
              "    // Use a chunked sending to avoid message size limits. See b/62115660.\n",
              "    let position = 0;\n",
              "    do {\n",
              "      const length = Math.min(fileData.byteLength - position, MAX_PAYLOAD_SIZE);\n",
              "      const chunk = new Uint8Array(fileData, position, length);\n",
              "      position += length;\n",
              "\n",
              "      const base64 = btoa(String.fromCharCode.apply(null, chunk));\n",
              "      yield {\n",
              "        response: {\n",
              "          action: 'append',\n",
              "          file: file.name,\n",
              "          data: base64,\n",
              "        },\n",
              "      };\n",
              "\n",
              "      let percentDone = fileData.byteLength === 0 ?\n",
              "          100 :\n",
              "          Math.round((position / fileData.byteLength) * 100);\n",
              "      percent.textContent = `${percentDone}% done`;\n",
              "\n",
              "    } while (position < fileData.byteLength);\n",
              "  }\n",
              "\n",
              "  // All done.\n",
              "  yield {\n",
              "    response: {\n",
              "      action: 'complete',\n",
              "    }\n",
              "  };\n",
              "}\n",
              "\n",
              "scope.google = scope.google || {};\n",
              "scope.google.colab = scope.google.colab || {};\n",
              "scope.google.colab._files = {\n",
              "  _uploadFiles,\n",
              "  _uploadFilesContinue,\n",
              "};\n",
              "})(self);\n",
              "</script> "
            ]
          },
          "metadata": {}
        },
        {
          "output_type": "stream",
          "name": "stdout",
          "text": [
            "Saving fatura 202307.pdf to fatura 202307.pdf\n",
            "Saving OUROCARD_PLATINUM_ESTILO_VISA-Jul_23.pdf to OUROCARD_PLATINUM_ESTILO_VISA-Jul_23.pdf\n",
            "Arquivo \"fatura 202307.pdf\" uploaded com sucesso.\n"
          ]
        },
        {
          "output_type": "display_data",
          "data": {
            "text/plain": [
              "<IPython.core.display.Markdown object>"
            ],
            "text/markdown": "Tamanho do arquivo \"fatura 202307.pdf\": 384874 bytes"
          },
          "metadata": {}
        },
        {
          "output_type": "stream",
          "name": "stdout",
          "text": [
            "Arquivo \"OUROCARD_PLATINUM_ESTILO_VISA-Jul_23.pdf\" uploaded com sucesso.\n"
          ]
        },
        {
          "output_type": "display_data",
          "data": {
            "text/plain": [
              "<IPython.core.display.Markdown object>"
            ],
            "text/markdown": "Tamanho do arquivo \"OUROCARD_PLATINUM_ESTILO_VISA-Jul_23.pdf\": 359869 bytes"
          },
          "metadata": {}
        }
      ]
    },
    {
      "cell_type": "code",
      "source": [
        "pdf_files = glob.glob('*.pdf')\n",
        "prompt_parts = list()\n",
        "\n",
        "if not pdf_files:\n",
        "    print(\"Nenhum arquivo PDF encontrado na pasta atual.\")\n",
        "else:\n",
        "    print(\"Arquivos PDF encontrados:\")\n",
        "    for pdf_file in pdf_files:\n",
        "        print(f\"- {pdf_file}\")\n",
        "        try:\n",
        "            with open(pdf_file, \"rb\") as f:\n",
        "                binary_content = f.read()\n",
        "            print(f\"Arquivo '{pdf_file}' carregado com sucesso. Tamanho: {len(binary_content)} bytes\")\n",
        "            # Agora 'binary_content' contém os dados binários do arquivo\n",
        "            # Você pode processá-lo conforme necessário\n",
        "            # Prepare the PDF content part directly as a dictionary\n",
        "            pdf_part_data = types.Part.from_bytes(mime_type=\"application/pdf\", data = binary_content)\n",
        "\n",
        "            # Combine parts into a list for the prompt\n",
        "            prompt_parts.append(pdf_part_data)\n",
        "        except FileNotFoundError:\n",
        "            print(f\"Erro: Arquivo '{pdf_file}' não encontrado na pasta atual.\")\n",
        "        except Exception as e:\n",
        "            print(f\"Ocorreu um erro ao carregar o arquivo: {e}\")\n",
        "    #for filename, file_content in uploaded.items():\n",
        "\n",
        "\n",
        "    # Optionally, add a text part (e.g., instructions)\n",
        "    text_part = {\"text\": \"Analise as faturas de cartões de crédito destes arquivos pdf e separe os lançamentos em um formado de planilha. Junte os lançamentos de todas as faturas em uma única listagem.\"}\n",
        "\n",
        "    prompt_parts.append(text_part)\n",
        "    try:\n",
        "        response = client.models.generate_content(\n",
        "            model=MODEL_ID,\n",
        "            contents=prompt_parts,\n",
        "        )\n",
        "        display(Markdown(f'Resposta do Gemini \":\\n\\n{response.text}'))\n",
        "        Lancamentos = response.text\n",
        "    except Exception as e:\n",
        "        print(f\"Erro ao enviar os arquivos para o Gemini: {e}\")\n"
      ],
      "metadata": {
        "colab": {
          "base_uri": "https://localhost:8080/",
          "height": 1000
        },
        "id": "4P5qExAW_y1Q",
        "outputId": "737d5b0c-115f-4bde-ae91-b6cbf89a95f4"
      },
      "execution_count": null,
      "outputs": [
        {
          "output_type": "stream",
          "name": "stdout",
          "text": [
            "Arquivos PDF encontrados:\n",
            "- fatura 202307.pdf\n",
            "Arquivo 'fatura 202307.pdf' carregado com sucesso. Tamanho: 384874 bytes\n",
            "- OUROCARD_PLATINUM_ESTILO_VISA-Jul_23.pdf\n",
            "Arquivo 'OUROCARD_PLATINUM_ESTILO_VISA-Jul_23.pdf' carregado com sucesso. Tamanho: 359869 bytes\n"
          ]
        },
        {
          "output_type": "display_data",
          "data": {
            "text/plain": [
              "<IPython.core.display.Markdown object>"
            ],
            "text/markdown": "Resposta do Gemini \":\n\nOkay, here are the transactions extracted from both the Caixa and Banco do Brasil credit card statements, combined into a single list in a spreadsheet-like format.\n\n| Card Issuer       | Date       | Description                      | Installment | Amount    |\n| :---------------- | :--------- | :------------------------------- | :---------- | :-------- |\n| Caixa             | 04/03      | DROGARIAS PACHECO                | 4/6         | 38.52     |\n| Caixa             | 06/04      | SUPERMERCADOS BH                 | 3/3         | 150.45    |\n| Caixa             | 13/05      | SELLOS ACESSORIOS                | 2/2         | 64.00     |\n| Caixa             | 20/05      | PICCADILLY C*                    | 2/10        | 38.69     |\n| BB                | 20/05      | PICCADILLY C*                    | 2/10        | 38.69     |\n| Caixa             | 31/05      | AMAZON BR                        | 2/6         | 57.44     |\n| BB                | 31/05      | AMAZON BR                        | 2/6         | 57.44     |\n| Caixa             | 05/06      | SUPERMERCADOS BH                 |             | 76.29     |\n| Caixa             | 05/06      | FEM ALIMENTOS                    |             | 13.00     |\n| BB                | 05/06      | Amazon.com.br                    |             | 40.66     |\n| BB                | 05/07      | LOCALIZA RAC ACBHZO              |             | 50.29     |\n| Caixa             | 07/06      | SUPERMERCADOS BH                 | 1/2         | 88.83     |\n| Caixa             | 08/06      | PADARIA PAO EXPRESSO             |             | 25.95     |\n| Caixa             | 08/06      | MP *REIDOMARMITEX                |             | 20.00     |\n| Caixa             | 08/06      | FISIA NIKE ECOMMER               | 1/2         | 100.92    |\n| BB                | 08/06      | FISIA NIKE ECOMMER               | 1/2         | 100.92    |\n| BB                | 08/10      | ZINZANE                          | 8/10        | 113.99    |\n| Caixa             | 09/05      | Magalu *MAGAZ                    | 3/8         | 66.11     |\n| BB                | 09/05      | Magalu *MAGAZ                    | 3/8         | 66.11     |\n| Caixa             | 09/06      | SUPERMERCADOS BH                 |             | 22.98     |\n| Caixa             | 09/06      | SUPERMERCADOS BH                 |             | 115.02    |\n| Caixa             | 10/06      | Drogarias Pacheco S.A. (Cartão 7632) |             | 38.46     |\n| BB                | 10/06      | AMAZON MARKET                    | 2/2         | 71.91     |\n| Caixa             | 10/06      | SUPERMERCADOS BH                 |             | 148.83    |\n| BB                | 10/11      | MERCADOLIVRE*                    | 10/10       | 66.21     |\n| Caixa             | 10/11      | ZINZANE                          | 8/10        | 113.99    |\n| BB                | 13/04      | MercPag*SAMAR                    | 3/4         | 34.54     |\n| Caixa             | 13/04      | HNA *O Bot                       | 3/9         | 21.20     |\n| BB                | 13/04      | HNA *O Bot                       | 3/9         | 21.20     |\n| BB                | 13/11      | MERCADOLIVRE*                    | 8/10        | 21.17     |\n| Caixa             | 11/06      | DROGARIAS PACHECO                |             | 43.45     |\n| Caixa             | 11/06      | SUPERMERCADOS BH                 |             | 33.36     |\n| Caixa             | 11/06      | UNIFIP *MENSALIDADE              |             | 1224.47   |\n| Caixa             | 12/06      | Uber *UBER *TRIP                 |             | 12.90     |\n| Caixa             | 12/06      | Uber *UBER *TRIP                 |             | 8.96      |\n| Caixa             | 12/06      | Uber *UBER *TRIP                 |             | 6.98      |\n| Caixa             | 12/06      | SUPERMERCADOS BH                 |             | 61.58     |\n| Caixa             | 12/06      | TOTAL FIT MONTES CLARO           |             | 108.14    |\n| BB                | 14/10      | Nestle Brasil                    | 9/10        | 8.36      |\n| BB                | 14/06      | Nestle Brasil                    | 1/2         | 11.13     |\n| Caixa             | 14/06      | DROGARIAS PACHECO                | 1/2         | 58.07     |\n| Caixa             | 14/06      | Uber *UBER *TRIP                 |             | 10.92     |\n| Caixa             | 14/06      | Uber *UBER *TRIP                 |             | 9.94      |\n| Caixa             | 14/06      | Uber *UBER *TRIP                 |             | 10.96     |\n| Caixa             | 14/06      | SUPERMERCADOS BH                 |             | 91.54     |\n| Caixa             | 14/06      | SUPERMERCADOS BH                 |             | 65.92     |\n| BB                | 15/06      | NETFLIX.COM                      |             | 25.90     |\n| BB                | 15/06      | GERALDO DE PAULA VALLE           |             | 84.70     |\n| Caixa             | 15/06      | Uber *UBER *TRIP                 |             | 10.98     |\n| Caixa             | 15/06      | Uber *UBER *TRIP                 |             | 9.92      |\n| Caixa             | 15/06      | Uber *UBER *TRIP                 |             | 10.91     |\n| Caixa             | 15/06      | Uber *UBER *TRIP                 |             | 9.96      |\n| Caixa             | 15/06      | Uber *UBER *TRIP                 |             | 8.96      |\n| Caixa             | 15/06      | Uber *UBER *TRIP                 |             | 8.90      |\n| Caixa             | 15/06      | PONTAL TECIDOS MOC               |             | 50.94     |\n| BB                | 15/12      | Nestle Brasil                    | 7/10        | 14.00     |\n| Caixa             | 16/05      | Nestle Brasil                    | 2/10        | 11.13     |\n| BB                | 16/05      | Nestle Brasil                    | 2/10        | 11.13     |\n| BB                | 16/06      | EC *MERCADOLIVRE                 |             | 149.00    |\n| BB                | 16/06      | FARMACIA REAL LTDA               |             | 31.98     |\n| Caixa             | 16/06      | Uber *UBER *TRIP                 |             | 14.92     |\n| Caixa             | 16/06      | Uber *UBER *TRIP                 |             | 10.97     |\n| Caixa             | 16/06      | Uber *UBER *TRIP                 |             | 9.93      |\n| Caixa             | 16/06      | Uber *UBER *TRIP                 |             | 9.91      |\n| Caixa             | 16/06      | SUPERMERCADOS BH                 |             | 93.82     |\n| Caixa             | 16/06      | CENTRO DE ESTETICA FAS           |             | 77.00     |\n| Caixa             | 16/06      | FARMACIA REAL LTDA               |             | 31.98     |\n| Caixa             | 16/06      | CASA DO BOLO IMACULADA           |             | 26.00     |\n| Caixa             | 16/06      | CASA DOS AVIAMENTOS              |             | 10.40     |\n| BB                | 17/06      | EC *OKAYSHOP                     |             | 109.71    |\n| BB                | 17/06      | PGO*BENDITO MALTE                |             | 88.00     |\n| BB                | 17/06      | PGO*BENDITO MALTE                |             | 60.00     |\n| BB                | 17/06      | KARSTEN                          | 1/3         | 105.41    |\n| Caixa             | 17/06      | SUPERMERCADOS BH                 |             | 62.89     |\n| Caixa             | 17/06      | REI DO MARMITEX MOC              |             | 14.00     |\n| BB                | 17/09      | MERCADOLIVRE*                    | 10/10       | 66.21     |\n| BB                | 18/05      | SUPERMERCADOS PARC               | 2/3         | 78.39     |\n| Caixa             | 18/05      | SUPERMERCADOS PARC               | 2/3         | 78.39     |\n| BB                | 18/06      | EC *NIVEL6                       |             | 14.99     |\n| BB                | 18/06      | PADARIA PAO EXPRESSO             |             | 11.86     |\n| BB                | 18/06      | SUPERMERCADOS BH                 |             | 11.29     |\n| BB                | 18/06      | CASA DA ESFIHA                   |             | 52.85     |\n| Caixa             | 18/06      | SUPERMERCADOS BH                 |             | 108.24    |\n| BB                | 19/11      | MLP *MAGAZ                       | 8/10        | 51.19     |\n| BB                | 19/06      | PG *DIAL VIAG PED                |             | 69.90     |\n| Caixa             | 19/06      | Uber *UBER *TRIP                 |             | 11.93     |\n| Caixa             | 19/06      | Uber *UBER *TRIP                 |             | 10.91     |\n| Caixa             | 19/06      | SUPERMERCADOS BH                 |             | 89.55     |\n| Caixa             | 19/06      | PG *DIAL VIAG PED                |             | 69.90     |\n| Caixa             | 19/06      | Google Globo                     |             | 19.90     |\n| Caixa             | 19/06      | Uber *UBER *TRIP                 |             | 9.98      |\n| Caixa             | 19/06      | Uber *UBER *TRIP                 |             | 9.98      |\n| Caixa             | 19/06      | Uber *UBER *TRIP                 |             | 9.96      |\n| BB                | 20/02      | Nestle Brasil                    | 5/10        | 10.74     |\n| BB                | 20/12      | GRUPO DLT                        | 7/12        | 185.00    |\n| Caixa             | 20/06      | Uber *UBER *TRIP                 |             | 9.98      |\n| BB                | 21/01      | AMAZON BR                        | 6/7         | 50.98     |\n| Caixa             | 21/06      | SUPERMERCADOS BH                 |             | 11.82     |\n| Caixa             | 21/06      | Uber *UBER *TRIP                 |             | 9.97      |\n| BB                | 21/06      | SUPERMERCADOS PARC               | 1/3         | 85.12     |\n| BB                | 22/06      | SUPERMERCADOS BH                 |             | 26.90     |\n| BB                | 22/06      | SUPERMERCADOS BH                 |             | 19.68     |\n| BB                | 22/06      | DROGARIAS PACHECO                |             | 14.09     |\n| Caixa             | 22/06      | SUPERMERCADOS BH                 |             | 83.67     |\n| Caixa             | 22/06      | Uber *UBER *TRIP                 |             | 11.92     |\n| Caixa             | 22/06      | Uber *UBER *TRIP                 |             | 9.97      |\n| Caixa             | 22/06      | Uber *UBER *TRIP                 |             | 9.91      |\n| BB                | 02/06      | LAPIEL                           | 2/3         | 59.33     |\n| BB                | 02/06      | PAG*DROGMINASBRASIL              | 2/2         | 51.40     |\n| Caixa             | 02/07      | SUPERMERCADOS BH                 |             | 98.35     |\n| BB                | 03/06      | PIZARRO JEANS                    | 2/2         | 53.85     |\n| BB                | 03/06      | CENTRO DE ESTETICA FAS           | 2/4         | 158.50    |\n| BB                | 03/07      | AMAZON BR                        | 1/4         | 50.69     |\n| BB                | 03/07      | AMAZON BR                        | 1/3         | 61.71     |\n| Caixa             | 03/07      | TOTAL FIT MONTES CLARO           |             | 99.95     |\n| BB                | 23/06      | SUPERMERCADOS BH                 |             | 49.80     |\n| BB                | 23/06      | CENTRO DE ESTETICA FAS           |             | 37.00     |\n| BB                | 23/06      | DOLAR SHOPPING                   |             | 18.40     |\n| BB                | 23/06      | Uber *UBER *TRIP                 |             | 9.92      |\n| BB                | 23/06      | Uber *UBER *TRIP                 |             | 8.97      |\n| BB                | 23/06      | Uber *UBER *TRIP                 |             | 7.97      |\n| BB                | 23/06      | Uber *UBER *TRIP                 |             | 7.95      |\n| Caixa             | 23/06      | SUPERMERCADOS BH                 |             | 49.80     |\n| Caixa             | 23/06      | CENTRO DE ESTETICA FAS           |             | 37.00     |\n| Caixa             | 23/06      | DOLAR SHOPPING                   |             | 18.40     |\n| Caixa             | 23/06      | Uber *UBER *TRIP                 |             | 9.92      |\n| Caixa             | 23/06      | Uber *UBER *TRIP                 |             | 8.97      |\n| Caixa             | 23/06      | Uber *UBER *TRIP                 |             | 7.97      |\n| Caixa             | 23/06      | Uber *UBER *TRIP                 |             | 7.95      |\n| BB                | 24/06      | G G FERRAGENS COLONIAI           |             | 40.00     |\n| BB                | 24/06      | REINO ANIMAL                     |             | 7.80      |\n| BB                | 24/06      | SUPERMERCADOS BH                 |             | 87.77     |\n| BB                | 24/06      | SR. PET CARE                     |             | 45.00     |\n| BB                | 24/06      | CASA DA ESFIHA                   |             | 52.85     |\n| BB                | 24/11      | KALUN                            | 8/10        | 15.90     |\n| BB                | 24/06      | PADARIA PAO EXPRESSO             |             | 8.26      |\n| BB                | 24/06      | PEIXARIA DO TONY                 |             | 163.00    |\n| BB                | 25/02      | PAGUE MENOS 6                    | 5/6         | 50.58     |\n| BB                | 25/02      | PAGUE MENOS 6                    | 5/6         | 60.90     |\n| BB                | 25/06      | GIRAFFAS                         |             | 115.00    |\n| BB                | 25/06      | PADARIA PAO EXPRESSO             |             | 8.26      |\n| BB                | 25/06      | CAN TINA DA CASA DELIVE          |             | 62.00     |\n| BB                | 25/06      | SUPERMERCADOS BH                 |             | 11.63     |\n| BB                | 25/06      | SUPERMERCADOS BH                 |             | 49.31     |\n| Caixa             | 25/06      | GIRAFFAS                         |             | 115.00    |\n| Caixa             | 26/04      | SUPERMERCADOS PARC               | 3/3         | 57.99     |\n| BB                | 26/04      | SUPERMERCADOS PARC               | 3/3         | 57.99     |\n| BB                | 26/09      | TELECIMENTO A                    | 10/10       | 104.95    |\n| BB                | 26/06      | SUPERMERCADOS BH                 |             | 89.46     |\n| BB                | 26/06      | CAN TINA DA CASA DELIVE          |             | 62.00     |\n| Caixa             | 26/06      | Uber *UBER *TRIP                 |             | 9.96      |\n| Caixa             | 26/06      | Uber *UBER *TRIP                 |             | 9.93      |\n| Caixa             | 26/06      | Uber *UBER *TRIP                 |             | 9.92      |\n| BB                | 27/04      | PAG*Chaparral                    | 3/3         | 258.17    |\n| BB                | 27/06      | SUPERMERCADOS PARC               | 1/3         | 44.10     |\n| Caixa             | 27/06      | Uber *UBER *TRIP                 |             | 9.92      |\n| Caixa             | 27/06      | Uber *UBER *TRIP                 |             | 8.90      |\n| BB                | 28/04      | VENUS                            | 3/6         | 49.80     |\n| BB                | 28/06      | SUPERMERCADOS PARC               | 1/3         | 51.54     |\n| Caixa             | 28/06      | Uber *UBER *TRIP                 |             | 8.91      |\n| BB                | 29/06      | Uber *UBER *TRIP                 |             | 9.99      |\n| BB                | 29/06      | SUPERMERCADOS BH                 |             | 56.32      |\n| BB                | 30/03      | MLP *MAGAZ                       | 4/5         | 46.45     |\n| BB                | 30/11      | AMAZON BR                        | 8/9         | 55.55     |\n| BB                | 30/06      | FEM ALIMENTOS                    |             | 17.72     |\n| BB                | 30/06      | DROGARIAS PACHECO                |             | 63.87     |\n| BB                | 30/06      | SUPERMERCADOS BH                 |             | 52.99     |\n| Caixa             | 30/06      | FEM ALIMENTOS                    |             | 17.72     |\n| Caixa             |            | ANUIDADE DIFERENCIADA ADI        |             | 8.62      |\n| Caixa             |            | ANUIDADE                         |             | 17.25     |\n| Caixa             |            | ANUIDADE DIFERENCIADA ADI        |             | 8.62      |\n\n**Notes:**\n*   Dates are listed in DD/MM format as they appear in the statements.\n*   Amounts are in BRL (Brazilian Reais).\n*   Installment information is extracted where available for parcelled purchases.\n*   Summary lines (like balance forward, total payments, total per category) are excluded.\n*   Caixa statements sometimes listed the same ANUIDADE amount multiple times; both instances are included.\n*   One transaction (PICCADILLY C*) appeared on both statements with the same date and amount; this could be a duplicate entry or a transaction involving both accounts somehow, it is listed as it appears."
          },
          "metadata": {}
        }
      ]
    },
    {
      "cell_type": "code",
      "source": [
        "# Função auxiliar para exibir texto formatado em Markdown no Colab\n",
        "def to_markdown(text):\n",
        "  text = text.replace('•', '  *')\n",
        "  return Markdown(textwrap.indent(text, '> ', predicate=lambda _: True))"
      ],
      "metadata": {
        "id": "8dosiodaxfFR"
      },
      "execution_count": null,
      "outputs": []
    },
    {
      "cell_type": "code",
      "source": [
        "###################################################\n",
        "# --- Agente 1: Caracterizador de Lançamentos --- #\n",
        "###################################################\n",
        "def agente_categorizador(lancamentos):\n",
        "\n",
        "    categorizador = Agent(\n",
        "        name=\"agente_categorizador\",\n",
        "        model=MODEL_ID,\n",
        "        instruction=\"\"\"\n",
        "        Você é um categorizador de lançamentos de cartões de crédito.\n",
        "        Retorne um resumo como a soma dos lançamentos por categoria.\n",
        "        \"\"\",\n",
        "        description=\"Agente que categoriza os lançamentos das faturas de cartões de crédito\",\n",
        "\n",
        "        # tools=[google_search]\n",
        "    )\n",
        "\n",
        "    entrada_do_agente_categorizador = f\"Lançamentos: {lancamentos}\"\n",
        "\n",
        "    categorias = call_agent(categorizador, entrada_do_agente_categorizador)\n",
        "    return categorias\n"
      ],
      "metadata": {
        "id": "o8bqIfi_DyH8"
      },
      "execution_count": null,
      "outputs": []
    },
    {
      "cell_type": "code",
      "source": [
        "##################################################################################################\n",
        "# --- Agente 2: Cria um gráfico --- #\n",
        "##################################################################################################\n",
        "def agente_grafico(categorias):\n",
        "    grafico = Agent(\n",
        "        name=\"grafico\",\n",
        "        model=MODEL_ID,\n",
        "        # Inserir as instruções do gerador_planilha #################################################\n",
        "        instruction=\"\"\"\n",
        "        Com base nos seguintes dados de categorias e suas somas, gere um código Python (utilizando bibliotecas como matplotlib ou plotly) para criar um gráfico de pizza.\n",
        "        \"\"\",\n",
        "        description=\"Agente que gerar gráfico\",\n",
        "        #tools=[google_docs]\n",
        "    )\n",
        "\n",
        "    entrada_do_agente_grafico = f\"Categorias: {categorias}\"\n",
        "    # Executa o agente\n",
        "    Grafico = call_agent(grafico, entrada_do_agente_grafico)\n",
        "    return Grafico"
      ],
      "metadata": {
        "id": "y3VO1uo5_ghO"
      },
      "execution_count": null,
      "outputs": []
    },
    {
      "cell_type": "code",
      "source": [
        "print(\"🚀 Iniciando o Sistema Análise de Faturas de Cartões de Crédito com 2 Agentes 🚀\")\n",
        "\n",
        "# --- Solicitar o upload dos pdfs das faturas ---\n",
        "#topico = input(\"❓ Por favor, digite o TÓPICO sobre o qual você quer criar o post de tendências: \")\n",
        "\n",
        "# Inserir lógica do sistema de agentes ################################################\n",
        "#if not topico:\n",
        "#    print(\"Você esqueceu de digitar o tópico!\")\n",
        "#else:\n",
        "#    print(f\"Maravilha! Vamos então criar o post sobre novidades em {topico}\")\n",
        "\n",
        "categorias = agente_categorizador(Lancamentos)\n",
        "print(\"\\n--- 📝 Resultado do Agente 1 (Categorizador) ---\\n\")\n",
        "display(to_markdown(categorias))\n",
        "print(\"--------------------------------------------------------------\")\n",
        "\n",
        "#Grafico = agente_grafico(categorias)\n",
        "#print(\"\\n--- 📝 Resultado do Agente 2 (Planejador) ---\\n\")\n",
        "#display(Grafico)\n",
        "#print(\"--------------------------------------------------------------\")\n",
        "\n"
      ],
      "metadata": {
        "colab": {
          "base_uri": "https://localhost:8080/",
          "height": 669
        },
        "id": "6xzI6LKzxxnN",
        "outputId": "b13c5f07-ac6d-4b87-ffd7-6a9f77256a12"
      },
      "execution_count": null,
      "outputs": [
        {
          "output_type": "stream",
          "name": "stdout",
          "text": [
            "🚀 Iniciando o Sistema Análise de Faturas de Cartões de Crédito com 2 Agentes 🚀\n",
            "\n",
            "--- 📝 Resultado do Agente 1 (Categorizador) ---\n",
            "\n"
          ]
        },
        {
          "output_type": "display_data",
          "data": {
            "text/plain": [
              "<IPython.core.display.Markdown object>"
            ],
            "text/markdown": "> Ok, aqui está o resumo dos seus lançamentos por categoria, somando os valores de ambas as faturas:\n> \n> **Resumo de Lançamentos por Categoria**\n> \n> *   **Alimentação/Mercado:** R$ 3014,99\n> *   **Educação:** R$ 1224,47\n> *   **Compras Online:** R$ 1220,27\n> *   **Outros Serviços/Compras Diversas:** R$ 855,32\n> *   **Vestuário/Acessórios:** R$ 620,82\n> *   **Saúde/Bem-Estar:** R$ 517,59\n> *   **Farmácia/Saúde:** R$ 483,30\n> *   **Transporte:** R$ 411,62\n> *   **Viagem:** R$ 139,80\n> *   **Pet Shop:** R$ 52,80\n> *   **Assinaturas Digitais:** R$ 45,80\n> *   **Anuidade:** R$ 34,49\n> \n> **Total Geral:** R$ 8621,43\n"
          },
          "metadata": {}
        },
        {
          "output_type": "stream",
          "name": "stdout",
          "text": [
            "--------------------------------------------------------------\n"
          ]
        },
        {
          "output_type": "error",
          "ename": "AttributeError",
          "evalue": "'function' object has no attribute 'name'",
          "traceback": [
            "\u001b[0;31m---------------------------------------------------------------------------\u001b[0m",
            "\u001b[0;31mAttributeError\u001b[0m                            Traceback (most recent call last)",
            "\u001b[0;32m<ipython-input-23-ac37f2258f2a>\u001b[0m in \u001b[0;36m<cell line: 0>\u001b[0;34m()\u001b[0m\n\u001b[1;32m     15\u001b[0m \u001b[0mprint\u001b[0m\u001b[0;34m(\u001b[0m\u001b[0;34m\"--------------------------------------------------------------\"\u001b[0m\u001b[0;34m)\u001b[0m\u001b[0;34m\u001b[0m\u001b[0;34m\u001b[0m\u001b[0m\n\u001b[1;32m     16\u001b[0m \u001b[0;34m\u001b[0m\u001b[0m\n\u001b[0;32m---> 17\u001b[0;31m \u001b[0mGrafico\u001b[0m \u001b[0;34m=\u001b[0m \u001b[0magente_grafico\u001b[0m\u001b[0;34m(\u001b[0m\u001b[0mcategorias\u001b[0m\u001b[0;34m)\u001b[0m\u001b[0;34m\u001b[0m\u001b[0;34m\u001b[0m\u001b[0m\n\u001b[0m\u001b[1;32m     18\u001b[0m \u001b[0mprint\u001b[0m\u001b[0;34m(\u001b[0m\u001b[0;34m\"\\n--- 📝 Resultado do Agente 2 (Planejador) ---\\n\"\u001b[0m\u001b[0;34m)\u001b[0m\u001b[0;34m\u001b[0m\u001b[0;34m\u001b[0m\u001b[0m\n\u001b[1;32m     19\u001b[0m \u001b[0mdisplay\u001b[0m\u001b[0;34m(\u001b[0m\u001b[0mGrafico\u001b[0m\u001b[0;34m)\u001b[0m\u001b[0;34m\u001b[0m\u001b[0;34m\u001b[0m\u001b[0m\n",
            "\u001b[0;32m<ipython-input-22-93c7c220208b>\u001b[0m in \u001b[0;36magente_grafico\u001b[0;34m(categorias)\u001b[0m\n\u001b[1;32m     16\u001b[0m     \u001b[0mentrada_do_agente_grafico\u001b[0m \u001b[0;34m=\u001b[0m \u001b[0;34mf\"Lançamentos: Categorias: {categorias}\"\u001b[0m\u001b[0;34m\u001b[0m\u001b[0;34m\u001b[0m\u001b[0m\n\u001b[1;32m     17\u001b[0m     \u001b[0;31m# Executa o agente\u001b[0m\u001b[0;34m\u001b[0m\u001b[0;34m\u001b[0m\u001b[0m\n\u001b[0;32m---> 18\u001b[0;31m     \u001b[0mGrafico\u001b[0m \u001b[0;34m=\u001b[0m \u001b[0mcall_agent\u001b[0m\u001b[0;34m(\u001b[0m\u001b[0magente_grafico\u001b[0m\u001b[0;34m,\u001b[0m \u001b[0mentrada_do_agente_grafico\u001b[0m\u001b[0;34m)\u001b[0m\u001b[0;34m\u001b[0m\u001b[0;34m\u001b[0m\u001b[0m\n\u001b[0m\u001b[1;32m     19\u001b[0m     \u001b[0;32mreturn\u001b[0m \u001b[0mGrafico\u001b[0m\u001b[0;34m\u001b[0m\u001b[0;34m\u001b[0m\u001b[0m\n",
            "\u001b[0;32m<ipython-input-6-09f8ad2f1f4d>\u001b[0m in \u001b[0;36mcall_agent\u001b[0;34m(agent, message_text)\u001b[0m\n\u001b[1;32m      4\u001b[0m     \u001b[0msession_service\u001b[0m \u001b[0;34m=\u001b[0m \u001b[0mInMemorySessionService\u001b[0m\u001b[0;34m(\u001b[0m\u001b[0;34m)\u001b[0m\u001b[0;34m\u001b[0m\u001b[0;34m\u001b[0m\u001b[0m\n\u001b[1;32m      5\u001b[0m     \u001b[0;31m# Cria uma nova sessão (você pode personalizar os IDs conforme necessário)\u001b[0m\u001b[0;34m\u001b[0m\u001b[0;34m\u001b[0m\u001b[0m\n\u001b[0;32m----> 6\u001b[0;31m     \u001b[0msession\u001b[0m \u001b[0;34m=\u001b[0m \u001b[0msession_service\u001b[0m\u001b[0;34m.\u001b[0m\u001b[0mcreate_session\u001b[0m\u001b[0;34m(\u001b[0m\u001b[0mapp_name\u001b[0m\u001b[0;34m=\u001b[0m\u001b[0magent\u001b[0m\u001b[0;34m.\u001b[0m\u001b[0mname\u001b[0m\u001b[0;34m,\u001b[0m \u001b[0muser_id\u001b[0m\u001b[0;34m=\u001b[0m\u001b[0;34m\"user1\"\u001b[0m\u001b[0;34m,\u001b[0m \u001b[0msession_id\u001b[0m\u001b[0;34m=\u001b[0m\u001b[0;34m\"session1\"\u001b[0m\u001b[0;34m)\u001b[0m\u001b[0;34m\u001b[0m\u001b[0;34m\u001b[0m\u001b[0m\n\u001b[0m\u001b[1;32m      7\u001b[0m     \u001b[0;31m# Cria um Runner para o agente\u001b[0m\u001b[0;34m\u001b[0m\u001b[0;34m\u001b[0m\u001b[0m\n\u001b[1;32m      8\u001b[0m     \u001b[0mrunner\u001b[0m \u001b[0;34m=\u001b[0m \u001b[0mRunner\u001b[0m\u001b[0;34m(\u001b[0m\u001b[0magent\u001b[0m\u001b[0;34m=\u001b[0m\u001b[0magent\u001b[0m\u001b[0;34m,\u001b[0m \u001b[0mapp_name\u001b[0m\u001b[0;34m=\u001b[0m\u001b[0magent\u001b[0m\u001b[0;34m.\u001b[0m\u001b[0mname\u001b[0m\u001b[0;34m,\u001b[0m \u001b[0msession_service\u001b[0m\u001b[0;34m=\u001b[0m\u001b[0msession_service\u001b[0m\u001b[0;34m)\u001b[0m\u001b[0;34m\u001b[0m\u001b[0;34m\u001b[0m\u001b[0m\n",
            "\u001b[0;31mAttributeError\u001b[0m: 'function' object has no attribute 'name'"
          ]
        }
      ]
    }
  ]
}